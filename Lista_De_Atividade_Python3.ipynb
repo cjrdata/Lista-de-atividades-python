{
  "nbformat": 4,
  "nbformat_minor": 0,
  "metadata": {
    "colab": {
      "provenance": []
    },
    "kernelspec": {
      "name": "python3",
      "display_name": "Python 3"
    },
    "language_info": {
      "name": "python"
    }
  },
  "cells": [
    {
      "cell_type": "code",
      "source": [
        "import numpy as np\n",
        "import pandas as pd\n",
        "print(pd.__file__)\n",
        "print(pd.__version__)"
      ],
      "metadata": {
        "id": "quqDE6PRiIJf"
      },
      "execution_count": null,
      "outputs": []
    },
    {
      "cell_type": "code",
      "source": [
        "#importar dados\n",
        "dados = pd.read_csv('/content/Data2.csv', sep = \",\")\n"
      ],
      "metadata": {
        "id": "3RAAwTeXoKTd"
      },
      "execution_count": null,
      "outputs": []
    },
    {
      "cell_type": "code",
      "source": [
        "#corrigindo a base\n",
        "#dados.replace({'CI055':'CI1055','Anual':'1', 'ALGORITMOS E ESTRUTURAS DE DADOS I':'ALGORITMOS E ESTRUTURAS DE DADOS 1', 'Reprovado':'R-freq'})\n",
        "dados.replace({'Reprovado':'R-freq'})\n"
      ],
      "metadata": {
        "id": "wg1lxM45q_M2"
      },
      "execution_count": null,
      "outputs": []
    },
    {
      "cell_type": "markdown",
      "source": [],
      "metadata": {
        "id": "BJua3kuhgUvk"
      }
    },
    {
      "cell_type": "code",
      "source": [
        "# 1. Qual é a média de nota dos aprovados (no período total e por ano)?\n",
        "\n",
        "# ANO\n",
        "aprovAno = dados[(dados['status'] == 'Aprovado') & (dados['tipo'] == 'TURMA')]\n",
        "MediaAprovadosAno = aprovAno.groupby(by=['ano']).mean('nota')\n",
        "MediaAprovadosAno"
      ],
      "metadata": {
        "id": "vAaAfRYnnJTr"
      },
      "execution_count": null,
      "outputs": []
    },
    {
      "cell_type": "code",
      "source": [],
      "metadata": {
        "id": "SGeT9p5mt3Sq"
      },
      "execution_count": null,
      "outputs": []
    },
    {
      "cell_type": "code",
      "source": [
        "\n",
        "import multiprocessing as mp\n",
        "import math\n",
        "\n",
        "def calculate_pi_part(start, end, step, output):\n",
        "    pi_part = 0\n",
        "    for i in range(start, end, step):\n",
        "        pi_part += 1.0 / (i * 4.0 + 1.0)\n",
        "        pi_part -= 1.0 / (i * 4.0 + 3.0)\n",
        "    output.put(pi_part)\n",
        "\n",
        "if __name__ == '__main__':\n",
        "    num_processes = mp.cpu_count()\n",
        "    steps = 1000000\n",
        "    output = mp.Queue()\n",
        "    processes = []\n",
        "\n",
        "    for i in range(num_processes):\n",
        "        start = i\n",
        "        p = mp.Process(target=calculate_pi_part, args=(start, steps, num_processes, output))\n",
        "        processes.append(p)\n",
        "        p.start()\n",
        "\n",
        "    for p in processes:\n",
        "        p.join()\n",
        "\n",
        "    pi = 0\n",
        "    while not output.empty():\n",
        "        pi += output.get()\n",
        "\n",
        "    pi *= 4.0\n",
        "    print(f\"Valor do PI INGENUO: {pi}\")\n"
      ],
      "metadata": {
        "colab": {
          "base_uri": "https://localhost:8080/"
        },
        "id": "gjYOdbcV2El8",
        "outputId": "11cc2f58-d8d0-4bd9-ed2f-2470f9c23e96"
      },
      "execution_count": null,
      "outputs": [
        {
          "output_type": "stream",
          "name": "stdout",
          "text": [
            "Valor do PI INGENUO: 3.1415921535897304\n"
          ]
        }
      ]
    },
    {
      "cell_type": "code",
      "source": [
        "# 1. Qual é a média de nota dos aprovados (no período total e por ano)?\n",
        "\n",
        "# PERIODO\n",
        "aprovPeriodo = dados[(dados['status'] == 'Aprovado') & (dados['tipo'] == 'TURMA')]\n",
        "MediaAprovadosPeriodo = aprovPeriodo.groupby(by=['periodo']).mean('nota')\n",
        "MediaAprovadosPeriodo"
      ],
      "metadata": {
        "id": "VFJbMfpgdeOk"
      },
      "execution_count": null,
      "outputs": []
    },
    {
      "cell_type": "code",
      "source": [
        "#2. Qual é a média de nota dos reprovados por nota (período total e ano)?\n",
        "\n",
        "#ANO\n",
        "# repNota = dados[(dados['status'] == 'R-nota')]\n",
        "# MediaReprovadosNotaAno = repNota.groupby(by=['ano']).mean('nota')\n",
        "# MediaReprovadosNotaAno\n",
        "\n",
        "#PERIODO\n",
        "repNota = dados[(dados['status'] == 'R-nota')]\n",
        "MediaReprovadosNotaPeriod = repNota.groupby(by=['periodo']).mean('nota')\n",
        "MediaReprovadosNotaPeriod"
      ],
      "metadata": {
        "id": "gclpN4nDkiRd"
      },
      "execution_count": null,
      "outputs": []
    },
    {
      "cell_type": "code",
      "source": [
        "# 3. Qual é a média de frequência dos reprovados por nota (período total e\n",
        "# por ano)?\n",
        "\n",
        "#ANO\n",
        "repNota = dados[(dados['status'] == 'R-nota')]\n",
        "MediaFrequenciaAno = repNota.groupby(by=['ano']).mean('frequencia')\n",
        "MediaFrequenciaAno\n",
        "\n",
        "#PERIODO\n",
        "repNota = dados[(dados['status'] == 'R-nota')]\n",
        "MediaFrequenciaPeriod = repNota.groupby(by=['periodo']).mean('frequencia')\n",
        "MediaFrequenciaPeriod"
      ],
      "metadata": {
        "id": "NijAeQlKzHYM"
      },
      "execution_count": null,
      "outputs": []
    },
    {
      "cell_type": "code",
      "source": [
        "# 4.a Qual a porcentagem de evasões (total)?\n",
        "\n",
        "#TOTAL\n",
        "\n",
        "ev = dados[(dados['situacaoDiscente'] == 'Evasão')]\n",
        "DadosOrd = ev.sort_values(by='ano', ascending=False, na_position='first')\n",
        "Evasao = DadosOrd.drop_duplicates(subset=['matricula'], keep='first')\n",
        "EvasaoCont = Evasao[Evasao.columns[0]].count()\n",
        "EvasaoCont\n",
        "\n",
        "DadosCont = dados[dados.columns[0]].count()\n",
        "DadosCont\n",
        "\n",
        "EvPercent = ((EvasaoCont-1) / (DadosCont-1))*100 # -1 para desconsiderar cabeçalho\n",
        "EvPercent\n"
      ],
      "metadata": {
        "id": "FEEoMm9l_60U"
      },
      "execution_count": null,
      "outputs": []
    },
    {
      "cell_type": "code",
      "source": [
        "# 5. Como os anos de pandemia impactaram no rendimento dos estudantes em relação aos anos anteriores, considerando o rendimento dos aprovados,\n",
        "#a taxa de cancelamento e as reprovações? Considere como anos de pandemia os anos de 2020 e 2021.\n",
        "\n",
        "import matplotlib.pyplot as plt\n",
        "\n",
        "Cancel = dados.groupby(by=['ano'])\n",
        "Cancel1 = Cancel['status'].value_counts(normalize = True)*100\n",
        "Cancel1\n",
        "\n"
      ],
      "metadata": {
        "id": "rgV_mdDZ-r8K"
      },
      "execution_count": null,
      "outputs": []
    },
    {
      "cell_type": "code",
      "source": [
        "# 6. Compare a volta às aulas híbrida (2022 período 1) com os anos de pandemia e os anos anteriores.\n",
        "\n",
        "ConfNotas = dados.groupby(by=['ano']).mean('nota')\n",
        "ConfNotas"
      ],
      "metadata": {
        "id": "1AfIIq5t-5EK"
      },
      "execution_count": null,
      "outputs": []
    }
  ]
}