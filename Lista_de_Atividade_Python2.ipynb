{
  "nbformat": 4,
  "nbformat_minor": 0,
  "metadata": {
    "colab": {
      "provenance": [],
      "collapsed_sections": [
        "A1F34WvdhFiM"
      ]
    },
    "kernelspec": {
      "name": "python3",
      "display_name": "Python 3"
    },
    "language_info": {
      "name": "python"
    }
  },
  "cells": [
    {
      "cell_type": "markdown",
      "source": [
        "# MOD 1"
      ],
      "metadata": {
        "id": "A1F34WvdhFiM"
      }
    },
    {
      "cell_type": "code",
      "source": [
        "#Oerações básicas de matematica\n",
        "print(1+1)\n",
        "print(2*3)\n",
        "print (\"texto\")\n",
        "print(2**2)\n",
        "print(2+2*5)\n",
        "print(\"meu programa\")"
      ],
      "metadata": {
        "colab": {
          "base_uri": "https://localhost:8080/"
        },
        "id": "OV5y7y6FY0gt",
        "outputId": "8da521f2-f532-49fb-caf6-23f2fd2c8d22"
      },
      "execution_count": null,
      "outputs": [
        {
          "output_type": "stream",
          "name": "stdout",
          "text": [
            "2\n",
            "6\n",
            "texto\n",
            "4\n",
            "12\n",
            "meu programa\n"
          ]
        }
      ]
    },
    {
      "cell_type": "code",
      "source": [
        "#Concatenar\n",
        "print(\"meu\"+\" programa\")"
      ],
      "metadata": {
        "colab": {
          "base_uri": "https://localhost:8080/"
        },
        "id": "N12tPK02ZPna",
        "outputId": "0dedd7f3-1137-43b4-c2e0-7fa9862523ca"
      },
      "execution_count": null,
      "outputs": [
        {
          "output_type": "stream",
          "name": "stdout",
          "text": [
            "meu programa\n"
          ]
        }
      ]
    },
    {
      "cell_type": "code",
      "source": [
        "#Operação IN para saber se esta contido dentro de algo // CASE SENSITIVE\n",
        "print(\"a\" in \"banana\")"
      ],
      "metadata": {
        "colab": {
          "base_uri": "https://localhost:8080/"
        },
        "id": "nNuH7283aedB",
        "outputId": "514b0797-94f7-406c-828a-f6b4dee73846"
      },
      "execution_count": null,
      "outputs": [
        {
          "output_type": "stream",
          "name": "stdout",
          "text": [
            "True\n"
          ]
        }
      ]
    },
    {
      "cell_type": "code",
      "source": [
        "# o sinal \"=\" significa recebe\n",
        "qtdeVendas = 1500\n",
        "nome = \"camila\"\n",
        "print(qtdeVendas)\n",
        "print(nome)\n"
      ],
      "metadata": {
        "colab": {
          "base_uri": "https://localhost:8080/"
        },
        "id": "kuTRAwLTbRoe",
        "outputId": "64c55fa7-8681-408d-c59b-cac068fe8681"
      },
      "execution_count": null,
      "outputs": [
        {
          "output_type": "stream",
          "name": "stdout",
          "text": [
            "1500\n",
            "camila\n"
          ]
        }
      ]
    },
    {
      "cell_type": "code",
      "source": [
        "#Para o usuario escrever algo\n",
        "nome = input(\"digite seu nome\")\n",
        "print(nome)\n",
        "sobrenome = input(\"digite seu sobrenome\")\n",
        "print(sobrenome)\n",
        "print(nome,sobrenome)\n",
        "#print(nome+\" \"+sobrenome) // pode ser utilizado desta forma tambem"
      ],
      "metadata": {
        "colab": {
          "base_uri": "https://localhost:8080/"
        },
        "id": "iLcxleECfE7C",
        "outputId": "82a0fd2f-2ada-40d9-d58a-5d9ccca1574f"
      },
      "execution_count": null,
      "outputs": [
        {
          "output_type": "stream",
          "name": "stdout",
          "text": [
            "digite seu nomeCamila\n",
            "Camila\n",
            "digite seu sobrenomeRodrigues\n",
            "Rodrigues\n",
            "Camila Rodrigues\n"
          ]
        }
      ]
    },
    {
      "cell_type": "markdown",
      "source": [
        "# EXERCIO 1"
      ],
      "metadata": {
        "id": "aSsSQJjBg8wM"
      }
    },
    {
      "cell_type": "code",
      "source": [
        "# Exercícios do Módulo 1 - Operações, Variáveis e Input\n",
        "\n",
        "### Parte 1 - Operações e Variáveis\n",
        "#Crie um programa que imprima (print) os principais indicadores da loja Hashtag&Drink no último ano.\n",
        "#Obs: faça tudo usando variáveis.\n",
        "\n",
        "#Valores do último ano:\n",
        "\n",
        "#Quantidade de Vendas de Coca = 150\n",
        "#Quantidade de Vendas de Pepsi = 130\n",
        "#Preço Unitário da Coca = 1,50\n",
        "#Preço Unitário da Pepsi = 1,50\n",
        "#Custo da Loja: 2.500,00\n",
        "\n",
        "qtdeVendaCoca = 150\n",
        "qtdeVendaPepsi = 130\n",
        "precoUnitarioCoca = 1.50\n",
        "precoUnitarioPepsi = 1.50\n",
        "custoLoja = 2500.00\n",
        "\n",
        "#Use o bloco abaixo para criar todas as variáveis que precisar.\n",
        "\n",
        "#1. Qual foi o faturamento de Pepsi da Loja?\n",
        "Faturamento_Pepsi = qtdeVendaPepsi*precoUnitarioPepsi\n",
        "print(Faturamento_Pepsi)\n",
        "\n",
        "#2. Qual foi o faturamento de Coca da Loja?\n",
        "Faturamento_Coca = qtdeVendaCoca*precoUnitarioCoca\n",
        "print(Faturamento_Coca)\n",
        "\n",
        "#3. Qual foi o Lucro da loja?\n",
        "lucro = qtdeVendaCoca*precoUnitarioCoca+qtdeVendaPepsi*precoUnitarioPepsi-custoLoja\n",
        "print(lucro)\n",
        "\n",
        "# 4. Qual foi a Margem da Loja? (Lembre-se, margem = Lucro / Faturamento). Não precisa formatar em percentual\n",
        "Faturamento = Faturamento_Pepsi+Faturamento_Coca\n",
        "Margem = lucro/Faturamento\n",
        "print(Margem)\n",
        "\n",
        "\n",
        "### Parte 2 - Inputs e Strings\n",
        "\n",
        "\n",
        "#A maioria das empresas trabalham com um Código para cada produto que possuem. A Hashtag&Drink, por exemplo,\n",
        "#tem mais de 1.000 produtos e possui um código para cada produto.\n",
        "#Ex:\n",
        "#Coca -> Código: BEB1300543\n",
        "#Pepsi -> Código: BEB1300545\n",
        "#Vinho Primitivo Lucarelli -> Código: BAC1546001\n",
        "#Vodka Smirnoff -> Código: BAC17675002\n",
        "\n",
        "# Repare que todas as bebidas não alcóolicas tem o início do Código \"BEB\" e\n",
        "# todas as bebidas alcóolicas tem o início do código \"BAC\".\n",
        "# Crie um programa de consulta de bebida que, dado um código qualquer,\n",
        "# identifique se a bebida é alcóolica. O programa deve responder True para\n",
        "# bebidas alcóolicas e False para bebidas não alcóolicas. Para inserir um\n",
        "# código, use um input.\n",
        "\n",
        "#Dica: Lembre-se do comando in para strings e sempre insira os códigos com letra maiúscula para facilitar.\n",
        "\n",
        "codigo = input(\"digite o codigo da bebida\")\n",
        "print(\"BAC\" in codigo)"
      ],
      "metadata": {
        "colab": {
          "base_uri": "https://localhost:8080/"
        },
        "id": "-hLyyGDeg6oS",
        "outputId": "47f8eefb-bc6e-4a04-b4ef-5e68928f4dce"
      },
      "execution_count": null,
      "outputs": [
        {
          "output_type": "stream",
          "name": "stdout",
          "text": [
            "195.0\n",
            "225.0\n",
            "-2080.0\n",
            "-4.9523809523809526\n",
            "digite o codigo da bebidaBEB123456\n",
            "False\n"
          ]
        }
      ]
    },
    {
      "cell_type": "code",
      "source": [],
      "metadata": {
        "id": "sfPZVE3w2Jj-"
      },
      "execution_count": null,
      "outputs": []
    }
  ]
}