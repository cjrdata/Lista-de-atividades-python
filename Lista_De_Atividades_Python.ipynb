{
  "nbformat": 4,
  "nbformat_minor": 0,
  "metadata": {
    "colab": {
      "provenance": []
    },
    "kernelspec": {
      "name": "python3",
      "display_name": "Python 3"
    },
    "language_info": {
      "name": "python"
    }
  },
  "cells": [
    {
      "cell_type": "code",
      "execution_count": null,
      "metadata": {
        "colab": {
          "base_uri": "https://localhost:8080/"
        },
        "id": "z1-FJoVL_4gZ",
        "outputId": "78f91e61-22f5-40b2-9d94-a22a29cd706c"
      },
      "outputs": [
        {
          "output_type": "stream",
          "name": "stdout",
          "text": [
            "Alo, mundo\n"
          ]
        }
      ],
      "source": [
        "#1 - Faça um Programa que mostre a mensagem \"Alo mundo\" na tela.\n",
        "print('Alo, mundo')"
      ]
    },
    {
      "cell_type": "code",
      "source": [
        "#2 - Faça um Programa que peça um número e então mostre a mensagem O número informado foi [número].\n",
        "idade = input('Digite a sua idade:')\n",
        "print('o numero informado foi {}'.format(idade))"
      ],
      "metadata": {
        "colab": {
          "base_uri": "https://localhost:8080/"
        },
        "id": "2r2sva_wAkHq",
        "outputId": "4880527b-0469-43f0-e3c2-1b542f7545b6"
      },
      "execution_count": null,
      "outputs": [
        {
          "output_type": "stream",
          "name": "stdout",
          "text": [
            "Digite a sua idade:28\n",
            "o numero informado foi 28\n"
          ]
        }
      ]
    },
    {
      "cell_type": "code",
      "source": [
        "#3 - Faça um Programa que peça dois números e imprima a soma.\n",
        "n1 = input('informe o primeiro numero:')\n",
        "n2 = input('informe o segundo numero:')\n",
        "soma = int(n1)+int(n2)\n",
        "#soma = n1+n2\n",
        "print(soma)"
      ],
      "metadata": {
        "colab": {
          "base_uri": "https://localhost:8080/"
        },
        "id": "eDIfSSHuCSke",
        "outputId": "d212594b-a81b-4af5-9bed-446c3f162c0f"
      },
      "execution_count": null,
      "outputs": [
        {
          "output_type": "stream",
          "name": "stdout",
          "text": [
            "informe o primeiro numero:2\n",
            "informe o segundo numero:3\n",
            "5\n"
          ]
        }
      ]
    },
    {
      "cell_type": "code",
      "source": [
        "#4 - Faça um Programa que peça as 4 notas bimestrais e mostre a média.\n",
        "p1 = input('Qual é a nota do 1 bi')\n",
        "p2 = input('Qual é a nota do 1 bi')\n",
        "p3 = input('Qual é a nota do 1 bi')\n",
        "p4 = input('Qual é a nota do 1 bi')\n",
        "soma = int(p1)+int(p2)+int(p3)+int(p4)\n",
        "media = soma/4\n",
        "print('a media foi {}'.format(media))"
      ],
      "metadata": {
        "colab": {
          "base_uri": "https://localhost:8080/"
        },
        "id": "QDoESnWuFjrn",
        "outputId": "955b197e-8490-4333-aeed-20d9c9f29c2d"
      },
      "execution_count": null,
      "outputs": [
        {
          "output_type": "stream",
          "name": "stdout",
          "text": [
            "Qual é a nota do 1 bi80\n",
            "Qual é a nota do 1 bi80\n",
            "Qual é a nota do 1 bi80\n",
            "Qual é a nota do 1 bi80\n",
            "a media foi 80.0\n",
            "2\n"
          ]
        }
      ]
    },
    {
      "cell_type": "code",
      "source": [
        "#5 - Faça um Programa que converta metros para centímetros.\n",
        "metros = float(input('qtd metros?'))\n",
        "cent = metros * 100\n",
        "print(cent, 'cm')"
      ],
      "metadata": {
        "colab": {
          "base_uri": "https://localhost:8080/"
        },
        "id": "JxFep0utKL8b",
        "outputId": "5fd0f77e-0e44-4314-e355-ccdb16f4593c"
      },
      "execution_count": null,
      "outputs": [
        {
          "output_type": "stream",
          "name": "stdout",
          "text": [
            "qtd metros?10\n",
            "1000.0 cm\n"
          ]
        }
      ]
    },
    {
      "cell_type": "code",
      "source": [
        "#6 - Faça um Programa que peça o raio de um círculo, calcule e mostre sua área.\n",
        "raio = float(input('qual é o raio do circulo?'))\n",
        "area = 3.14 * (raio ** 2)\n",
        "print (area)"
      ],
      "metadata": {
        "colab": {
          "base_uri": "https://localhost:8080/"
        },
        "id": "I1NFNx2yMLz_",
        "outputId": "0801383b-164b-46e2-f49a-c7a83968a63a"
      },
      "execution_count": null,
      "outputs": [
        {
          "output_type": "stream",
          "name": "stdout",
          "text": [
            "qual é o raio do circulo?3\n",
            "28.26\n"
          ]
        }
      ]
    },
    {
      "cell_type": "code",
      "source": [
        "#7 - Faça um Programa que calcule a área de um quadrado, em seguida mostre o dobro desta área para o usuário.\n",
        "#A = L2\n",
        "L = float(3)\n",
        "A = float(L*2)\n",
        "area = print('A area do quadrado é {}'.format(A))\n",
        "darea = print('A area do quadrado é {}'.format(A*2))"
      ],
      "metadata": {
        "id": "ANVBgDQINI7-",
        "colab": {
          "base_uri": "https://localhost:8080/"
        },
        "outputId": "59929edb-0ad3-4cba-fbf7-bc17e478dcfc"
      },
      "execution_count": null,
      "outputs": [
        {
          "output_type": "stream",
          "name": "stdout",
          "text": [
            "A area do quadrado é 6.0\n",
            "A area do quadrado é 12.0\n"
          ]
        }
      ]
    },
    {
      "cell_type": "code",
      "source": [
        "#8 - Faça um Programa que pergunte quanto você ganha por hora e o número de horas trabalhadas no mês.\n",
        "#Calcule e mostre o total do seu salário no referido mês.\n",
        "\n",
        "ValorHr = float(input('Quanto voce ganha por hr?'))\n",
        "QtdHora = float(input('Quantidade de numeros de hrs trabalhadas no mes?'))\n",
        "calculo = print(ValorHr*QtdHora)\n"
      ],
      "metadata": {
        "colab": {
          "base_uri": "https://localhost:8080/"
        },
        "id": "FVdtFwqaR4_B",
        "outputId": "9e27e147-7352-4be6-ae3b-0b762f83b59f"
      },
      "execution_count": null,
      "outputs": [
        {
          "output_type": "stream",
          "name": "stdout",
          "text": [
            "Quanto voce ganha por hr?20\n",
            "Quantidade de numeros de hrs trabalhadas no mes?220\n",
            "4400.0\n"
          ]
        }
      ]
    },
    {
      "cell_type": "code",
      "source": [
        "#9 - Faça um Programa que peça a temperatura em graus Fahrenheit, transforme e mostre a temperatura em graus Celsius.\n",
        "#C = 5 * ((F-32) / 9)\n",
        "tempF = float(input('qual é a temp em f?'))\n",
        "C = 5*((tempF-32)/9)\n",
        "print(C)"
      ],
      "metadata": {
        "colab": {
          "base_uri": "https://localhost:8080/"
        },
        "id": "Otlk9xLPUV6P",
        "outputId": "f85d1521-d2a7-4dbb-d806-b8d9c2ac5449"
      },
      "execution_count": null,
      "outputs": [
        {
          "output_type": "stream",
          "name": "stdout",
          "text": [
            "qual é a temp em f?85\n",
            "29.444444444444446\n"
          ]
        }
      ]
    },
    {
      "cell_type": "code",
      "source": [
        "#10 - Faça um Programa que peça a temperatura em graus Celsius, transforme e mostre em graus Fahrenheit.\n",
        "tempC = float(input('qual é a temp em C?'))\n",
        "F = (1.8*tempC)+32\n",
        "print(F)"
      ],
      "metadata": {
        "colab": {
          "base_uri": "https://localhost:8080/"
        },
        "id": "K0i52TXMWDDV",
        "outputId": "643ad829-47b0-4720-a56b-fe2c74576e15"
      },
      "execution_count": null,
      "outputs": [
        {
          "output_type": "stream",
          "name": "stdout",
          "text": [
            "qual é a temp em f?29.4\n",
            "84.92\n"
          ]
        }
      ]
    },
    {
      "cell_type": "code",
      "source": [
        "#10 - Faça um Programa que peça 2 números inteiros e um número real. Calcule e mostre:\n",
        "#o produto do dobro do primeiro com metade do segundo .\n",
        "#a soma do triplo do primeiro com o terceiro.\n",
        "#o terceiro elevado ao cubo.\n",
        "n1 = int(input('1o Número inteiro: '))\n",
        "n2 = int(input('2o Número inteiro: '))\n",
        "n3 = float(input('Número real: '))\n",
        "\n",
        "print ('Soma:', ((2*n1) * (n2/2)))\n",
        "print ('Produto:', (3 * n1) + n3)\n",
        "print ('Cubo:', n3**3)"
      ],
      "metadata": {
        "colab": {
          "base_uri": "https://localhost:8080/"
        },
        "id": "o2mg0zrRW_6s",
        "outputId": "bd3e23c6-db21-480e-b4b6-1871387a1c60"
      },
      "execution_count": null,
      "outputs": [
        {
          "output_type": "stream",
          "name": "stdout",
          "text": [
            "1o Número inteiro: 2\n",
            "2o Número inteiro: 3\n",
            "Número real: 4\n",
            "Soma: 6.0\n",
            "Produto: 10.0\n",
            "Cubo: 64.0\n"
          ]
        }
      ]
    },
    {
      "cell_type": "code",
      "source": [
        "#12 - Tendo como dados de entrada a altura de uma pessoa,\n",
        "#construa um algoritmo que calcule seu peso ideal, usando a seguinte fórmula: (72.7*altura) - 58\n",
        "altura = float(input('Altura:'))\n",
        "print ('Peso ideal:', (72.7*altura) - 58)"
      ],
      "metadata": {
        "colab": {
          "base_uri": "https://localhost:8080/"
        },
        "id": "jyzMWuI-X5nl",
        "outputId": "83bc9b8b-11b0-46e8-ea2e-71201cc1ed9a"
      },
      "execution_count": null,
      "outputs": [
        {
          "output_type": "stream",
          "name": "stdout",
          "text": [
            "Altura:1.60\n",
            "Peso ideal: 58.32000000000001\n"
          ]
        }
      ]
    },
    {
      "cell_type": "code",
      "source": [
        "#13 - Tendo como dado de entrada a altura (h) de uma pessoa, construa um algoritmo que calcule seu peso ideal, utilizando as seguintes fórmulas:\n",
        "#Para homens: (72.7*h) - 58\n",
        "#Para mulheres: (62.1*h) - 44.7\n",
        "\n",
        "sexo = int(input('Escolha: 1- Sexo Masculino / 2- Sexo Feminino: '))\n",
        "h = float(input('Altura:'))\n",
        "peso = float(input('Peso:'))\n",
        "\n",
        "peso_ideal = (72.7*h) - 58 if sexo == 1 else (62.1*h) - 44.7\n",
        "\n",
        "if peso < peso_ideal:\n",
        "\tprint('Abaixo do peso ideal!')\n",
        "elif peso == peso_ideal:\n",
        "\tprint('Dentro do peso ideal!')\n",
        "else:\n",
        "\tprint('Acima do peso ideal!')\n",
        "print ('Peso: %.2f / Peso ideal: %.2f' %(peso, peso_ideal))\n",
        "\n",
        "\n",
        "#exemplo de código da condição da linha 11 mais detalhado\n",
        "'''if sexo == 1:\n",
        "\tpeso_ideal = (72.7*h) - 58\n",
        "else:\n",
        "\tpeso_ideal = (62.1*h) - 44.7'''"
      ],
      "metadata": {
        "id": "fhVXLVY1YkhY"
      },
      "execution_count": null,
      "outputs": []
    },
    {
      "cell_type": "code",
      "source": [
        "\"\"\"\n",
        "Faça um programa que peça uma nota, entre zero e dez.\n",
        "Mostre uma mensagem caso o valor seja inválido e continue pedindo até que o\n",
        "usuário informe um valor válido.\n",
        "\"\"\"\n",
        "nota = float(input(\"Digite uma nota de 0 a 10: \"))\n",
        "while nota > 10 or nota < 0:\n",
        "    nota = float(input(\"Valor Inválido\\nDigite uma nota de 0 a 10: \"))"
      ],
      "metadata": {
        "colab": {
          "base_uri": "https://localhost:8080/"
        },
        "id": "xRwvj6Idbb6n",
        "outputId": "1b2dd376-def3-4000-cbd3-d30013288565"
      },
      "execution_count": null,
      "outputs": [
        {
          "name": "stdout",
          "output_type": "stream",
          "text": [
            "Digite uma nota de 0 a 10: 11\n",
            "Valor Inválido\n",
            "Digite uma nota de 0 a 10: 40\n",
            "Valor Inválido\n",
            "Digite uma nota de 0 a 10: 4\n"
          ]
        }
      ]
    },
    {
      "cell_type": "code",
      "source": [
        "lista = [0, 0, 9.0, 8.0, 5.0, 10.0, 7.0, 7.5, 4.0, 10.0, 7.0, 7.0, 8.0, 8.0, 7.5]\n",
        "def funcao(lista):\n",
        "       fim = len(lista)-1\n",
        "       print(lista)\n",
        "       #inicio = 0\n",
        "       #while(inicio < fim):\n",
        "               #aux = lista[inicio]\n",
        "               #lista[inicio] = lista[fim]\n",
        "               #lista[fim] = aux\n",
        "               #inicio = inicio + 1\n",
        "               #fim = fim - 1"
      ],
      "metadata": {
        "id": "xtxglhfncfrg"
      },
      "execution_count": null,
      "outputs": []
    },
    {
      "cell_type": "code",
      "source": [
        "idade = int(input(\"Digite sua idade:\"))\n",
        "\n",
        "if idade >= 18:\n",
        "\n",
        "        print(\"Pode dirigir no Brasil...\")\n",
        "\n",
        "if idade < 18:\n",
        "\n",
        "        print(\"Não pode dirigir no Brasil!\")\n",
        "\n",
        "if idade > 15:\n",
        "\n",
        "        print(\"Pode dirigir nos EUA...\")\n",
        "\n",
        "if idade >= 16 and idade < 21:\n",
        "\n",
        "        print(\"Pode dirigir, mas não comprar álcool nos EUA\")"
      ],
      "metadata": {
        "colab": {
          "base_uri": "https://localhost:8080/"
        },
        "id": "vhC4N3SQgtHg",
        "outputId": "2050f4ec-beb2-44f4-d073-383052703e14"
      },
      "execution_count": null,
      "outputs": [
        {
          "output_type": "stream",
          "name": "stdout",
          "text": [
            "Digite sua idade:15\n",
            "Não pode dirigir no Brasil!\n"
          ]
        }
      ]
    },
    {
      "cell_type": "code",
      "source": [
        "frases1 = \"laranja laranja\"\n",
        "frases2 = frases1.replace(\"laranja\", \"banana\", 1)\n",
        "frases3 = frases1[0:3] + \" \"+ frases1 + \" \" + frases2\n",
        "print(frases3)"
      ],
      "metadata": {
        "colab": {
          "base_uri": "https://localhost:8080/"
        },
        "id": "u2_NkAzPh0wa",
        "outputId": "61e4f62e-2426-46f1-82a7-3407de95cc92"
      },
      "execution_count": null,
      "outputs": [
        {
          "output_type": "stream",
          "name": "stdout",
          "text": [
            "lar laranja laranja banana laranja\n"
          ]
        }
      ]
    },
    {
      "cell_type": "markdown",
      "source": [],
      "metadata": {
        "id": "BleicmHlGOC9"
      }
    }
  ]
}